{
 "cells": [
  {
   "cell_type": "code",
   "execution_count": 1,
   "id": "f048729f",
   "metadata": {},
   "outputs": [],
   "source": [
    "from pyspark.sql import SparkSession\n",
    "from pyspark.sql.functions import col, count, min, max, avg, unix_timestamp, count_if, round, when\n",
    "from pyspark.sql.types import TimestampType, IntegerType\n",
    "import requests\n",
    "import json\n",
    "import os"
   ]
  },
  {
   "cell_type": "code",
   "execution_count": 2,
   "id": "483a000f",
   "metadata": {},
   "outputs": [
    {
     "name": "stderr",
     "output_type": "stream",
     "text": [
      "Setting default log level to \"WARN\".\n",
      "To adjust logging level use sc.setLogLevel(newLevel). For SparkR, use setLogLevel(newLevel).\n",
      "25/08/12 20:59:55 WARN NativeCodeLoader: Unable to load native-hadoop library for your platform... using builtin-java classes where applicable\n"
     ]
    },
    {
     "name": "stdout",
     "output_type": "stream",
     "text": [
      "Downloading data from https://data.sfgov.org/resource/nuek-vuh3.json...\n",
      "Data downloaded successfully!\n"
     ]
    },
    {
     "name": "stderr",
     "output_type": "stream",
     "text": [
      "25/08/12 21:00:04 WARN SparkStringUtils: Truncated the string representation of a plan since it was too large. This behavior can be adjusted by setting 'spark.sql.debug.maxToStringFields'.\n"
     ]
    },
    {
     "name": "stdout",
     "output_type": "stream",
     "text": [
      "15\n",
      "+-----+\n",
      "|count|\n",
      "+-----+\n",
      "|   15|\n",
      "+-----+\n",
      "\n",
      "[Row(count=15)] <class 'list'>\n",
      "15\n",
      "15\n"
     ]
    }
   ],
   "source": [
    "# Створюємо сесію Spark\n",
    "spark = SparkSession.builder.appName(\"MyGoitSparkSandbox\").getOrCreate()\n",
    "\n",
    "# Завантажуємо датасет\n",
    "# Download data from API first\n",
    "url = 'https://data.sfgov.org/resource/nuek-vuh3.json'\n",
    "local_file = '/tmp/nuek-vuh3.json'\n",
    "\n",
    "if not os.path.exists(local_file):\n",
    "    print(f\"Downloading data from {url}...\")\n",
    "    response = requests.get(url)\n",
    "    with open(local_file, 'w') as f:\n",
    "        json.dump(response.json(), f)\n",
    "    print(\"Data downloaded successfully!\")\n",
    "\n",
    "# nuek_df = spark.read.csv('./nuek-vuh3.csv', header=True)\n",
    "nuek_df = spark.read.json(local_file)\n",
    "\n",
    "# Створюємо тимчасове представлення для виконання SQL-запитів\n",
    "nuek_df.createTempView(\"nuek_view\")\n",
    "\n",
    "# Скільки унікальних call_type є в датасеті?\n",
    "print(nuek_df.select('call_type')\n",
    "      .where(col(\"call_type\").isNotNull())\n",
    "      .distinct()\n",
    "      .count())\n",
    "# Скільки унікальних call_type є в датасеті? (з використанням SQL)\n",
    "df = spark.sql(\"\"\"SELECT COUNT(DISTINCT call_type) as count\n",
    "                    FROM nuek_view \n",
    "                    WHERE call_type IS NOT NULL\"\"\")\n",
    "# Виводимо датафрейм на дисплей\n",
    "df.show()\n",
    "\n",
    "# Витягуємо дані колонки з датафрейму\n",
    "print(df.collect(), type(df.collect()))\n",
    "# Дотягуємось до самого значення за номером рядка та іменем колонки\n",
    "print(df.collect()[0]['count'])\n",
    "# або за номером рядка та номером колонки\n",
    "print(df.collect()[0][0])\n",
    "spark.stop()"
   ]
  }
 ],
 "metadata": {
  "kernelspec": {
   "display_name": "Python 3",
   "language": "python",
   "name": "python3"
  },
  "language_info": {
   "codemirror_mode": {
    "name": "ipython",
    "version": 3
   },
   "file_extension": ".py",
   "mimetype": "text/x-python",
   "name": "python",
   "nbconvert_exporter": "python",
   "pygments_lexer": "ipython3",
   "version": "3.11.13"
  }
 },
 "nbformat": 4,
 "nbformat_minor": 5
}
